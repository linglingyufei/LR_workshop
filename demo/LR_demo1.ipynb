{
 "cells": [
  {
   "cell_type": "markdown",
   "metadata": {},
   "source": [
    "### Logistic Regression dealing with classification\n",
    "### 1.1 linear case"
   ]
  },
  {
   "cell_type": "code",
   "execution_count": 144,
   "metadata": {},
   "outputs": [
    {
     "data": {
      "text/plain": [
       "array([[34.62365962, 78.02469282,  0.        ],\n",
       "       [30.28671077, 43.89499752,  0.        ]])"
      ]
     },
     "execution_count": 144,
     "metadata": {},
     "output_type": "execute_result"
    }
   ],
   "source": [
    "import pandas as pd\n",
    "import numpy as np\n",
    "import matplotlib.pyplot as plt\n",
    "\n",
    "# import demo data\n",
    "data1 = np.loadtxt('/Users/jane_j/Documents/LR_test/demo1/data1.txt', delimiter = ',')\n",
    "print(data1[:2])"
   ]
  },
  {
   "cell_type": "code",
   "execution_count": 145,
   "metadata": {},
   "outputs": [
    {
     "data": {
      "image/png": "[encoded data removed]",
      "text/plain": [
       "<matplotlib.figure.Figure at 0x1088260f0>"
      ]
     },
     "metadata": {},
     "output_type": "display_data"
    }
   ],
   "source": [
    "# visualization\n",
    "pos = data1[:,2]==1\n",
    "neg = data1[:,2]==0\n",
    "\n",
    "fig = plt.figure()\n",
    "ax = fig.add_subplot(111)\n",
    "ax.scatter(data1[pos][:,0], data1[pos][:,1],c = 'b',marker = 'x')\n",
    "ax.scatter(data1[neg][:,0], data1[neg][:,1],c = 'g',marker = '+')\n",
    "ax.set_xlabel('score1')\n",
    "ax.set_ylabel('score2')\n",
    "plt.show()"
   ]
  },
  {
   "cell_type": "code",
   "execution_count": 151,
   "metadata": {},
   "outputs": [
    {
     "data": {
      "image/png": "[encoded data removed]",
      "text/plain": [
       "<matplotlib.figure.Figure at 0x108ae96a0>"
      ]
     },
     "metadata": {},
     "output_type": "display_data"
    }
   ],
   "source": [
    "from scipy.optimize import minimize\n",
    "\n",
    "m, n = data1.shape\n",
    "X = np.array(np.column_stack((np.ones(m), data1[:,:-1])))\n",
    "y = np.array(data1[:,-1].reshape(m,1))\n",
    "init_theta = np.array(np.zeros(n).reshape(n,1))\n",
    "\n",
    "def sigmoid(X):\n",
    "    return 1.0/(1+np.exp(-X))\n",
    "\n",
    "def cost_function(theta, X, y):\n",
    "    h = sigmoid(X.dot(theta))\n",
    "    J = -(1.0/m)*(y.T.dot(np.log(h)) + (1-y).T.dot(np.log(1-h)))\n",
    "    return J[0]\n",
    "\n",
    "def grad(theta, X, y):\n",
    "    h = sigmoid(X.dot(theta.reshape(-1,1)))\n",
    "    grad = (1.0/m)*((h-y).T.dot(X)).T\n",
    "    return grad.flatten()\n",
    "\n",
    "res = minimize(cost_function, init_theta, args = (X,y), jac = grad)\n",
    "\n",
    "x1_min, x1_max = data1[:,0].min(), data1[:,0].max()\n",
    "x2_min, x2_max = data1[:,1].min(), data1[:,1].max()\n",
    "x1, x2 = np.meshgrid(np.linspace(x1_min, x1_max), np.linspace(x2_min, x2_max))\n",
    "h = sigmoid_function(np.c_[np.ones((x1.ravel().shape[0],1)), x1.ravel(), x2.ravel()].dot(res.x))\n",
    "h = h.reshape(x1.shape)\n",
    "\n",
    "plt.contour(x1, x2, h, [0.5], linewidths = 1, colors = 'r')\n",
    "plt.scatter(data1[pos][:,0], data1[pos][:,1],c = 'b',marker = 'x')\n",
    "plt.scatter(data1[neg][:,0], data1[neg][:,1],c = 'g',marker = '+')\n",
    "plt.show()"
   ]
  },
  {
   "cell_type": "code",
   "execution_count": 149,
   "metadata": {},
   "outputs": [
    {
     "data": {
      "text/plain": [
       "      fun: 0.20349770158944377\n",
       " hess_inv: array([[ 3.31474479e+03, -2.63892205e+01, -2.70237122e+01],\n",
       "       [-2.63892205e+01,  2.23869433e-01,  2.02682332e-01],\n",
       "       [-2.70237122e+01,  2.02682332e-01,  2.35335117e-01]])\n",
       "      jac: array([-9.52476828e-09, -9.31921322e-07, -2.82608934e-07])\n",
       "  message: 'Optimization terminated successfully.'\n",
       "     nfev: 31\n",
       "      nit: 23\n",
       "     njev: 31\n",
       "   status: 0\n",
       "  success: True\n",
       "        x: array([-25.16133284,   0.2062317 ,   0.2014716 ])"
      ]
     },
     "execution_count": 149,
     "metadata": {},
     "output_type": "execute_result"
    }
   ],
   "source": [
    "# optimize result\n",
    "res"
   ]
  },
  {
   "cell_type": "markdown",
   "metadata": {},
   "source": [
    "### 1.2 non-linear case"
   ]
  },
  {
   "cell_type": "code",
   "execution_count": 152,
   "metadata": {},
   "outputs": [
    {
     "name": "stdout",
     "output_type": "stream",
     "text": [
      "[[34.62365962 78.02469282  0.        ]\n",
      " [30.28671077 43.89499752  0.        ]]\n"
     ]
    },
    {
     "data": {
      "image/png": "[encoded data removed]",
      "text/plain": [
       "<matplotlib.figure.Figure at 0x108d0a9b0>"
      ]
     },
     "metadata": {},
     "output_type": "display_data"
    }
   ],
   "source": [
    "# import data and visualize\n",
    "data2 = np.loadtxt('/Users/jane_j/Documents/LR_test/demo1/data2.txt', delimiter = ',')\n",
    "print(data1[:2])\n",
    "\n",
    "pos = data2[:,2]==1\n",
    "neg = data2[:,2]==0\n",
    "plt.scatter(data2[pos][:,0], data2[pos][:,1],c = 'b',marker = 'x')\n",
    "plt.scatter(data2[neg][:,0], data2[neg][:,1],c = 'g',marker = '+')\n",
    "plt.show()"
   ]
  },
  {
   "cell_type": "code",
   "execution_count": 169,
   "metadata": {},
   "outputs": [
    {
     "data": {
      "image/png": "[encoded data removed]",
      "text/plain": [
       "<matplotlib.figure.Figure at 0x10a6805f8>"
      ]
     },
     "metadata": {},
     "output_type": "display_data"
    }
   ],
   "source": [
    "# construt polynomial boundary, try quadratic(degree = 2), can also try other basis, like sin, cos, ... etc.\n",
    "def feature(data, degree):\n",
    "    x1 = data[:,0]\n",
    "    x2 = data[:,1]\n",
    "    fea_data = np.ones((x1.shape[0], 1))\n",
    "    for i in range(1, degree+1):\n",
    "        for j in range(i+1):\n",
    "            temp = x1**(i-j)*x2**j    # feature vector like (x1, x2, x1^2, x1x2, x2^2, ...)\n",
    "            fea_data = np.append(fea_data, temp.reshape(-1,1), axis = 1)\n",
    "    return fea_data\n",
    "\n",
    "feature_data = feature(data2, 2)\n",
    "m, n = feature_data.shape\n",
    "X = feature_data\n",
    "y = np.array(data2[:,-1].reshape(m,1))\n",
    "init_theta = np.array(np.zeros(n).reshape(n,1))\n",
    "\n",
    "res = minimize(cost_function, init_theta, args = (X,y), jac = grad)\n",
    "\n",
    "# visualization\n",
    "x1_min, x1_max = data2[:,0].min(), data2[:,0].max()\n",
    "x2_min, x2_max = data2[:,1].min(), data2[:,1].max()\n",
    "x1, x2 = np.meshgrid(np.linspace(x1_min, x1_max), np.linspace(x2_min, x2_max))\n",
    "h = sigmoid_function(feature(np.column_stack((x1.ravel(), x2.ravel())), 2).dot(res.x))\n",
    "h = h.reshape(x1.shape)\n",
    "\n",
    "plt.contour(x1, x2, h, [0.5], linewidths = 1, colors = 'r')\n",
    "plt.scatter(data2[pos][:,0], data2[pos][:,1],c = 'b',marker = 'x')\n",
    "plt.scatter(data2[neg][:,0], data2[neg][:,1],c = 'g',marker = '+')\n",
    "plt.show()"
   ]
  },
  {
   "cell_type": "code",
   "execution_count": 162,
   "metadata": {},
   "outputs": [
    {
     "data": {
      "text/plain": [
       "      fun: 0.34810531348342144\n",
       " hess_inv: array([[  86.09462492,   45.69750127,   57.71347167, -169.8683929 ,\n",
       "         -98.09068439, -188.51088515],\n",
       "       [  45.69750127,   68.39622247,   48.15408551, -116.01710165,\n",
       "        -104.73160783, -106.68145904],\n",
       "       [  57.71347167,   48.15408551,   80.49330754, -115.19141089,\n",
       "        -110.57327368, -168.0849988 ],\n",
       "       [-169.8683929 , -116.01710165, -115.19141089,  456.15235588,\n",
       "         262.19279895,  341.21498664],\n",
       "       [ -98.09068439, -104.73160783, -110.57327368,  262.19279895,\n",
       "         396.58582936,  279.45403928],\n",
       "       [-188.51088515, -106.68145904, -168.0849988 ,  341.21498664,\n",
       "         279.45403928,  517.16408891]])\n",
       "      jac: array([-5.99475933e-06, -2.37396741e-07, -9.70106272e-07, -2.18005144e-06,\n",
       "       -8.04484807e-07, -1.26264365e-06])\n",
       "  message: 'Optimization terminated successfully.'\n",
       "     nfev: 44\n",
       "      nit: 42\n",
       "     njev: 44\n",
       "   status: 0\n",
       "  success: True\n",
       "        x: array([  5.16953241,   3.24770461,   4.16640802, -12.02748365,\n",
       "        -7.53190346, -11.82290276])"
      ]
     },
     "execution_count": 162,
     "metadata": {},
     "output_type": "execute_result"
    }
   ],
   "source": [
    "res"
   ]
  },
  {
   "cell_type": "markdown",
   "metadata": {},
   "source": [
    "### 1.3 example with real data ( from kaggle Titanic data)\n",
    "information page: https://www.kaggle.com/c/titanic"
   ]
  },
  {
   "cell_type": "code",
   "execution_count": 250,
   "metadata": {},
   "outputs": [
    {
     "name": "stdout",
     "output_type": "stream",
     "text": [
      "<class 'pandas.core.frame.DataFrame'>\n",
      "RangeIndex: 891 entries, 0 to 890\n",
      "Data columns (total 12 columns):\n",
      "PassengerId    891 non-null int64\n",
      "Survived       891 non-null int64\n",
      "Pclass         891 non-null int64\n",
      "Name           891 non-null object\n",
      "Sex            891 non-null object\n",
      "Age            714 non-null float64\n",
      "SibSp          891 non-null int64\n",
      "Parch          891 non-null int64\n",
      "Ticket         891 non-null object\n",
      "Fare           891 non-null float64\n",
      "Cabin          204 non-null object\n",
      "Embarked       889 non-null object\n",
      "dtypes: float64(2), int64(5), object(5)\n",
      "memory usage: 83.6+ KB\n"
     ]
    }
   ],
   "source": [
    "# from sklearn.ensemble import RandomForestClassifier\n",
    "# from sklearn.linear_model.logistic import LogisticRegression\n",
    "\n",
    "# # import training and testing data, and visualize\n",
    "train_data = pd.read_csv('/Users/jane_j/Documents/LR_test/demo1/train.csv')\n",
    "test_data = pd.read_csv('/Users/jane_j/Documents/LR_test/demo1/test.csv')\n",
    "train_data.info()"
   ]
  },
  {
   "cell_type": "code",
   "execution_count": 245,
   "metadata": {},
   "outputs": [
    {
     "name": "stdout",
     "output_type": "stream",
     "text": [
      "<class 'pandas.core.frame.DataFrame'>\n",
      "RangeIndex: 418 entries, 0 to 417\n",
      "Data columns (total 11 columns):\n",
      "PassengerId    418 non-null int64\n",
      "Pclass         418 non-null int64\n",
      "Name           418 non-null object\n",
      "Sex            418 non-null object\n",
      "Age            332 non-null float64\n",
      "SibSp          418 non-null int64\n",
      "Parch          418 non-null int64\n",
      "Ticket         418 non-null object\n",
      "Fare           417 non-null float64\n",
      "Cabin          91 non-null object\n",
      "Embarked       418 non-null object\n",
      "dtypes: float64(2), int64(4), object(5)\n",
      "memory usage: 36.0+ KB\n"
     ]
    }
   ],
   "source": [
    "test_data.info()"
   ]
  },
  {
   "cell_type": "code",
   "execution_count": 176,
   "metadata": {},
   "outputs": [
    {
     "data": {
      "text/html": [
       "<div>\n",
       "<style>\n",
       "    .dataframe thead tr:only-child th {\n",
       "        text-align: right;\n",
       "    }\n",
       "\n",
       "    .dataframe thead th {\n",
       "        text-align: left;\n",
       "    }\n",
       "\n",
       "    .dataframe tbody tr th {\n",
       "        vertical-align: top;\n",
       "    }\n",
       "</style>\n",
       "<table border=\"1\" class=\"dataframe\">\n",
       "  <thead>\n",
       "    <tr style=\"text-align: right;\">\n",
       "      <th></th>\n",
       "      <th>PassengerId</th>\n",
       "      <th>Survived</th>\n",
       "      <th>Pclass</th>\n",
       "      <th>Age</th>\n",
       "      <th>SibSp</th>\n",
       "      <th>Parch</th>\n",
       "      <th>Fare</th>\n",
       "    </tr>\n",
       "  </thead>\n",
       "  <tbody>\n",
       "    <tr>\n",
       "      <th>count</th>\n",
       "      <td>891.000000</td>\n",
       "      <td>891.000000</td>\n",
       "      <td>891.000000</td>\n",
       "      <td>714.000000</td>\n",
       "      <td>891.000000</td>\n",
       "      <td>891.000000</td>\n",
       "      <td>891.000000</td>\n",
       "    </tr>\n",
       "    <tr>\n",
       "      <th>mean</th>\n",
       "      <td>446.000000</td>\n",
       "      <td>0.383838</td>\n",
       "      <td>2.308642</td>\n",
       "      <td>29.699118</td>\n",
       "      <td>0.523008</td>\n",
       "      <td>0.381594</td>\n",
       "      <td>32.204208</td>\n",
       "    </tr>\n",
       "    <tr>\n",
       "      <th>std</th>\n",
       "      <td>257.353842</td>\n",
       "      <td>0.486592</td>\n",
       "      <td>0.836071</td>\n",
       "      <td>14.526497</td>\n",
       "      <td>1.102743</td>\n",
       "      <td>0.806057</td>\n",
       "      <td>49.693429</td>\n",
       "    </tr>\n",
       "    <tr>\n",
       "      <th>min</th>\n",
       "      <td>1.000000</td>\n",
       "      <td>0.000000</td>\n",
       "      <td>1.000000</td>\n",
       "      <td>0.420000</td>\n",
       "      <td>0.000000</td>\n",
       "      <td>0.000000</td>\n",
       "      <td>0.000000</td>\n",
       "    </tr>\n",
       "    <tr>\n",
       "      <th>25%</th>\n",
       "      <td>223.500000</td>\n",
       "      <td>0.000000</td>\n",
       "      <td>2.000000</td>\n",
       "      <td>20.125000</td>\n",
       "      <td>0.000000</td>\n",
       "      <td>0.000000</td>\n",
       "      <td>7.910400</td>\n",
       "    </tr>\n",
       "    <tr>\n",
       "      <th>50%</th>\n",
       "      <td>446.000000</td>\n",
       "      <td>0.000000</td>\n",
       "      <td>3.000000</td>\n",
       "      <td>28.000000</td>\n",
       "      <td>0.000000</td>\n",
       "      <td>0.000000</td>\n",
       "      <td>14.454200</td>\n",
       "    </tr>\n",
       "    <tr>\n",
       "      <th>75%</th>\n",
       "      <td>668.500000</td>\n",
       "      <td>1.000000</td>\n",
       "      <td>3.000000</td>\n",
       "      <td>38.000000</td>\n",
       "      <td>1.000000</td>\n",
       "      <td>0.000000</td>\n",
       "      <td>31.000000</td>\n",
       "    </tr>\n",
       "    <tr>\n",
       "      <th>max</th>\n",
       "      <td>891.000000</td>\n",
       "      <td>1.000000</td>\n",
       "      <td>3.000000</td>\n",
       "      <td>80.000000</td>\n",
       "      <td>8.000000</td>\n",
       "      <td>6.000000</td>\n",
       "      <td>512.329200</td>\n",
       "    </tr>\n",
       "  </tbody>\n",
       "</table>\n",
       "</div>"
      ],
      "text/plain": [
       "       PassengerId    Survived      Pclass         Age       SibSp  \\\n",
       "count   891.000000  891.000000  891.000000  714.000000  891.000000   \n",
       "mean    446.000000    0.383838    2.308642   29.699118    0.523008   \n",
       "std     257.353842    0.486592    0.836071   14.526497    1.102743   \n",
       "min       1.000000    0.000000    1.000000    0.420000    0.000000   \n",
       "25%     223.500000    0.000000    2.000000   20.125000    0.000000   \n",
       "50%     446.000000    0.000000    3.000000   28.000000    0.000000   \n",
       "75%     668.500000    1.000000    3.000000   38.000000    1.000000   \n",
       "max     891.000000    1.000000    3.000000   80.000000    8.000000   \n",
       "\n",
       "            Parch        Fare  \n",
       "count  891.000000  891.000000  \n",
       "mean     0.381594   32.204208  \n",
       "std      0.806057   49.693429  \n",
       "min      0.000000    0.000000  \n",
       "25%      0.000000    7.910400  \n",
       "50%      0.000000   14.454200  \n",
       "75%      0.000000   31.000000  \n",
       "max      6.000000  512.329200  "
      ]
     },
     "execution_count": 176,
     "metadata": {},
     "output_type": "execute_result"
    }
   ],
   "source": [
    "train_data.describe()     # survived rate = 38.4% ; Pclass info ; ..."
   ]
  },
  {
   "cell_type": "code",
   "execution_count": 187,
   "metadata": {
    "collapsed": true
   },
   "outputs": [
    {
     "data": {
      "text/plain": [
       "<matplotlib.figure.Figure at 0x1049804e0>"
      ]
     },
     "metadata": {},
     "output_type": "display_data"
    },
    {
     "data": {
      "image/png": "[encoded data removed]",
      "text/plain": [
       "<matplotlib.figure.Figure at 0x10a6651d0>"
      ]
     },
     "metadata": {},
     "output_type": "display_data"
    },
    {
     "data": {
      "image/png": "[encoded data removed]",
      "text/plain": [
       "<matplotlib.figure.Figure at 0x1049a0550>"
      ]
     },
     "metadata": {},
     "output_type": "display_data"
    },
    {
     "data": {
      "image/png": "[encoded data removed]",
      "text/plain": [
       "<matplotlib.figure.Figure at 0x10b00bfd0>"
      ]
     },
     "metadata": {},
     "output_type": "display_data"
    },
    {
     "data": {
      "image/png": "[encoded data removed]",
      "text/plain": [
       "<matplotlib.figure.Figure at 0x108900898>"
      ]
     },
     "metadata": {},
     "output_type": "display_data"
    }
   ],
   "source": [
    "# visualization:\n",
    "fig = plt.figure()\n",
    "\n",
    "train_data.pivot_table('PassengerId', index = ['Survived'], columns = 'Sex', aggfunc = len).reset_index().plot(kind = 'bar', stacked = True)\n",
    "plt.show()\n",
    "\n",
    "train_data.pivot_table('PassengerId', index = ['Survived'], columns = 'Pclass', aggfunc = len).reset_index().plot(kind = 'bar', stacked = True)\n",
    "plt.show()\n",
    "\n",
    "train_data['age_int'] = 10*(train_data['Age']//10)\n",
    "train_data.pivot_table('PassengerId', index = ['Survived'], columns = 'age_int', aggfunc = len).reset_index().plot(kind = 'bar', stacked = True)\n",
    "plt.show()\n",
    "\n",
    "train_data.pivot_table('PassengerId', index = ['Survived'], columns = 'Parch', aggfunc = len).reset_index().plot(kind = 'bar', stacked = True)\n",
    "plt.show()"
   ]
  },
  {
   "cell_type": "code",
   "execution_count": 251,
   "metadata": {},
   "outputs": [],
   "source": [
    "# missing data, string data processing\n",
    "def generate_feature(data):\n",
    "    data['gender'] = np.where(data.Name.str.contains('Mrs.'), 1,\n",
    "                   np.where(data.Name.str.contains('Mr.'), 0,\n",
    "                   np.where(data.Name.str.contains('Miss.'), 2, 3)))         # find gender and age info from name\n",
    "    data['Sex'] = np.where(data.Sex == 'female', 1, 0)\n",
    "    data['Age'] = data[['Age', 'gender']].groupby('gender').transform(lambda x: x.fillna(x.median()))\n",
    "    data['age_int'] = 5*(data['Age']//5)                           # split age to intervals, for convergence\n",
    "    data['fare_int'] = 10*(data['Fare']//10)\n",
    "    data['cabin_info'] = np.where(data.Cabin.isnull(), 0, 1)\n",
    "    data = data.drop(['Name', 'Age', 'Ticket', 'Fare', 'Cabin', 'Embarked'], axis = 1, inplace = True)\n",
    "    return data\n",
    "\n",
    "generate_feature(train_data)\n",
    "generate_feature(test_data)"
   ]
  },
  {
   "cell_type": "code",
   "execution_count": 252,
   "metadata": {},
   "outputs": [
    {
     "data": {
      "text/html": [
       "<div>\n",
       "<style>\n",
       "    .dataframe thead tr:only-child th {\n",
       "        text-align: right;\n",
       "    }\n",
       "\n",
       "    .dataframe thead th {\n",
       "        text-align: left;\n",
       "    }\n",
       "\n",
       "    .dataframe tbody tr th {\n",
       "        vertical-align: top;\n",
       "    }\n",
       "</style>\n",
       "<table border=\"1\" class=\"dataframe\">\n",
       "  <thead>\n",
       "    <tr style=\"text-align: right;\">\n",
       "      <th></th>\n",
       "      <th>PassengerId</th>\n",
       "      <th>Survived</th>\n",
       "      <th>Pclass</th>\n",
       "      <th>Sex</th>\n",
       "      <th>SibSp</th>\n",
       "      <th>Parch</th>\n",
       "      <th>gender</th>\n",
       "      <th>age_int</th>\n",
       "      <th>fare_int</th>\n",
       "      <th>cabin_info</th>\n",
       "    </tr>\n",
       "  </thead>\n",
       "  <tbody>\n",
       "    <tr>\n",
       "      <th>0</th>\n",
       "      <td>1</td>\n",
       "      <td>0</td>\n",
       "      <td>3</td>\n",
       "      <td>0</td>\n",
       "      <td>1</td>\n",
       "      <td>0</td>\n",
       "      <td>0</td>\n",
       "      <td>20.0</td>\n",
       "      <td>0.0</td>\n",
       "      <td>0</td>\n",
       "    </tr>\n",
       "    <tr>\n",
       "      <th>1</th>\n",
       "      <td>2</td>\n",
       "      <td>1</td>\n",
       "      <td>1</td>\n",
       "      <td>1</td>\n",
       "      <td>1</td>\n",
       "      <td>0</td>\n",
       "      <td>1</td>\n",
       "      <td>35.0</td>\n",
       "      <td>70.0</td>\n",
       "      <td>1</td>\n",
       "    </tr>\n",
       "  </tbody>\n",
       "</table>\n",
       "</div>"
      ],
      "text/plain": [
       "   PassengerId  Survived  Pclass  Sex  SibSp  Parch  gender  age_int  \\\n",
       "0            1         0       3    0      1      0       0     20.0   \n",
       "1            2         1       1    1      1      0       1     35.0   \n",
       "\n",
       "   fare_int  cabin_info  \n",
       "0       0.0           0  \n",
       "1      70.0           1  "
      ]
     },
     "execution_count": 252,
     "metadata": {},
     "output_type": "execute_result"
    }
   ],
   "source": [
    "train_data.head(2)"
   ]
  },
  {
   "cell_type": "code",
   "execution_count": 248,
   "metadata": {},
   "outputs": [],
   "source": [
    "# train models and predict\n",
    "y_train = train_data.Survived\n",
    "x_train = train_data.drop(['PassengerId', 'Survived'], axis = 1)\n",
    "x_test = test_data.drop(['PassengerId'], axis = 1)\n",
    "x_test = x_test.fillna(0)\n",
    "\n",
    "lr_model = LogisticRegression()\n",
    "lr_model.fit(x_train, y_train)\n",
    "\n",
    "y_pred = lr_model.predict(x_test)\n",
    "result = pd.DataFrame({'PassengerId': test_data['PassengerId'].as_matrix(), 'Survived':y_pred})\n",
    "result.to_csv('/Users/jane_j/Documents/LR_test/demo1/test_pred.csv', index = False)"
   ]
  },
  {
   "cell_type": "code",
   "execution_count": 249,
   "metadata": {},
   "outputs": [
    {
     "data": {
      "text/html": [
       "<div>\n",
       "<style>\n",
       "    .dataframe thead tr:only-child th {\n",
       "        text-align: right;\n",
       "    }\n",
       "\n",
       "    .dataframe thead th {\n",
       "        text-align: left;\n",
       "    }\n",
       "\n",
       "    .dataframe tbody tr th {\n",
       "        vertical-align: top;\n",
       "    }\n",
       "</style>\n",
       "<table border=\"1\" class=\"dataframe\">\n",
       "  <thead>\n",
       "    <tr style=\"text-align: right;\">\n",
       "      <th></th>\n",
       "      <th>coef</th>\n",
       "      <th>columns</th>\n",
       "    </tr>\n",
       "  </thead>\n",
       "  <tbody>\n",
       "    <tr>\n",
       "      <th>0</th>\n",
       "      <td>[-0.723117628622017]</td>\n",
       "      <td>Pclass</td>\n",
       "    </tr>\n",
       "    <tr>\n",
       "      <th>1</th>\n",
       "      <td>[2.157305840535233]</td>\n",
       "      <td>Sex</td>\n",
       "    </tr>\n",
       "    <tr>\n",
       "      <th>2</th>\n",
       "      <td>[-0.40742127976975273]</td>\n",
       "      <td>SibSp</td>\n",
       "    </tr>\n",
       "    <tr>\n",
       "      <th>3</th>\n",
       "      <td>[-0.14524740464694613]</td>\n",
       "      <td>Parch</td>\n",
       "    </tr>\n",
       "    <tr>\n",
       "      <th>4</th>\n",
       "      <td>[0.4584041461791167]</td>\n",
       "      <td>gender</td>\n",
       "    </tr>\n",
       "    <tr>\n",
       "      <th>5</th>\n",
       "      <td>[-0.02781384467655384]</td>\n",
       "      <td>age_int</td>\n",
       "    </tr>\n",
       "    <tr>\n",
       "      <th>6</th>\n",
       "      <td>[0.0030779261535672092]</td>\n",
       "      <td>fare_int</td>\n",
       "    </tr>\n",
       "    <tr>\n",
       "      <th>7</th>\n",
       "      <td>[0.7288657153401128]</td>\n",
       "      <td>cabin_info</td>\n",
       "    </tr>\n",
       "  </tbody>\n",
       "</table>\n",
       "</div>"
      ],
      "text/plain": [
       "                      coef     columns\n",
       "0     [-0.723117628622017]      Pclass\n",
       "1      [2.157305840535233]         Sex\n",
       "2   [-0.40742127976975273]       SibSp\n",
       "3   [-0.14524740464694613]       Parch\n",
       "4     [0.4584041461791167]      gender\n",
       "5   [-0.02781384467655384]     age_int\n",
       "6  [0.0030779261535672092]    fare_int\n",
       "7     [0.7288657153401128]  cabin_info"
      ]
     },
     "execution_count": 249,
     "metadata": {},
     "output_type": "execute_result"
    }
   ],
   "source": [
    "pd.DataFrame({\"columns\":list(x_train.columns), \"coef\":list(lr_model.coef_.T)})   # correlation of feature with result"
   ]
  },
  {
   "cell_type": "code",
   "execution_count": null,
   "metadata": {
    "collapsed": true
   },
   "outputs": [],
   "source": []
  }
 ],
 "metadata": {
  "kernelspec": {
   "display_name": "Python 3",
   "language": "python",
   "name": "python3"
  },
  "language_info": {
   "codemirror_mode": {
    "name": "ipython",
    "version": 3
   },
   "file_extension": ".py",
   "mimetype": "text/x-python",
   "name": "python",
   "nbconvert_exporter": "python",
   "pygments_lexer": "ipython3",
   "version": "3.6.3"
  }
 },
 "nbformat": 4,
 "nbformat_minor": 2
}
